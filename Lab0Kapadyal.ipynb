{
 "cells": [
  {
   "cell_type": "markdown",
   "id": "d5db6d1b-e005-4d17-9622-fdc427c35f6c",
   "metadata": {},
   "source": [
    "# <center>Suyog Kapadyal</center>\n",
    "## <center>CPSMA-3933-01</center>\n",
    "### <center>Lab 0</center>\n",
    "---\n",
    "***Date***: September 2 \n",
    "***Instructor***: Professor Nicholas Jacob \n",
    "---\n",
    "**GitHub Repository:** [View on GitHub](https://raw.githubusercontent.com/SuyogKapadyal9/CPSMA-3933-01/refs/heads/main/Lab0Kapadyal.ipynb)"
   ]
  },
  {
   "cell_type": "markdown",
   "id": "586fc32e-d039-4205-92de-939800fcb498",
   "metadata": {},
   "source": [
    "### My Favorite Function\n",
    "\n",
    "My favorite function is the **Absolute Value function**, denoted by | x |.\n",
    "\n",
    "It is defined by the equation:\n",
    "\n",
    "$f(x) = |x| = \\begin{cases} x & \\text{if } x \\geq 0 \\\\ -x & \\text{if } x < 0 \\end{cases}$\n",
    "\n",
    "#### Why is it my favorite?\n",
    "\n",
    "I love this function because it's a perfect example of a simple, clear idea with huge importance. Its entire job is to tell you **how far away** a number is from zero on the number line, ignoring whether it's positive or negative.\n",
    "\n",
    "This simple superpower makes it incredibly useful:\n",
    "*   In **physics**, to find the magnitude of a vector.\n",
    "*   In **error analysis**, to see how far off a measurement is from the true value.\n",
    "*   In **everyday life**, to represent things like distance (you can't be -5 miles away from something).\n",
    "\n",
    "It’s a no-nonsense simple function. \n",
    "\n"
   ]
  },
  {
   "cell_type": "code",
   "execution_count": 28,
   "id": "bc0f0613-2389-423d-a11b-f62924bd6e7a",
   "metadata": {},
   "outputs": [],
   "source": [
    "# Define our own absolute value function\n",
    "def absolute_value(x):\n",
    "    \"\"\"\n",
    "    This function computes the absolute value of x.\n",
    "    \n",
    "    Parameters:\n",
    "    x (int or float): Input number\n",
    "    \n",
    "    Returns:\n",
    "    int or float: The magnitude of x, always non-negative.\n",
    "    \"\"\"\n",
    "    if x >= 0:\n",
    "        return x\n",
    "    else:\n",
    "        return -x"
   ]
  },
  {
   "cell_type": "code",
   "execution_count": 30,
   "id": "d1a47cc4-9b0e-4dac-904a-9f98412a87ce",
   "metadata": {},
   "outputs": [
    {
     "name": "stdout",
     "output_type": "stream",
     "text": [
      "absolute_value(10) = 10\n",
      "absolute_value(-4.5) = 4.5\n",
      "absolute_value(0) = 0\n",
      "\n",
      "Testing against Python's built-in abs():\n",
      "Our function result for -7: 7 | Built-in result: 7\n"
     ]
    }
   ],
   "source": [
    "# Let's compute some values to see the absolute value function in action!\n",
    "\n",
    "print(\"absolute_value(10) =\", absolute_value(10))\n",
    "print(\"absolute_value(-4.5) =\", absolute_value(-4.5))\n",
    "print(\"absolute_value(0) =\", absolute_value(0))\n",
    "\n",
    "# Let's test it against Python's built-in abs() function to prove it works\n",
    "print(\"\\nTesting against Python's built-in abs():\")\n",
    "print(\"Our function result for -7:\", absolute_value(-7), \"| Built-in result:\", abs(-7))"
   ]
  },
  {
   "cell_type": "markdown",
   "id": "189d8ddf-c79b-4e07-b561-5263479e037b",
   "metadata": {},
   "source": [
    "### Analyzing a List of Values\n",
    "\n",
    "For this, I created a list of the first 10 square numbers. I generated these values by starting with the first 10 integers and then squaring each number. This gives us a list of perfect squares: `[1, 4, 9, 16, 25, 36, 49, 64, 81, 100]`."
   ]
  },
  {
   "cell_type": "code",
   "execution_count": 34,
   "id": "ccfb659c-01e9-4c6d-9273-2e117b16f34d",
   "metadata": {},
   "outputs": [
    {
     "name": "stdout",
     "output_type": "stream",
     "text": [
      "My list of perfect squares: [1, 4, 9, 16, 25, 36, 49, 64, 81, 100]\n",
      "\n",
      "Calculation Results:\n",
      "Sum of all values: 385\n",
      "Minimum value: 1\n",
      "Maximum value: 100\n",
      "Average value: 38.5\n"
     ]
    }
   ],
   "source": [
    "# Create a list of the first 10 perfect squares\n",
    "numbers = [x*x for x in range(1, 11)]\n",
    "print(\"My list of perfect squares:\", numbers)\n",
    "\n",
    "# Perform calculations\n",
    "list_sum = sum(numbers)\n",
    "list_min = min(numbers)\n",
    "list_max = max(numbers)\n",
    "list_average = list_sum / len(numbers) # Calculating the average\n",
    "\n",
    "# Print the results\n",
    "print(\"\\nCalculation Results:\")\n",
    "print(\"Sum of all values:\", list_sum)\n",
    "print(\"Minimum value:\", list_min)\n",
    "print(\"Maximum value:\", list_max)\n",
    "print(\"Average value:\", list_average)"
   ]
  },
  {
   "cell_type": "code",
   "execution_count": null,
   "id": "a20fbcdb-1814-4529-af44-e55262ee20db",
   "metadata": {},
   "outputs": [],
   "source": []
  }
 ],
 "metadata": {
  "kernelspec": {
   "display_name": "Python [conda env:base] *",
   "language": "python",
   "name": "conda-base-py"
  },
  "language_info": {
   "codemirror_mode": {
    "name": "ipython",
    "version": 3
   },
   "file_extension": ".py",
   "mimetype": "text/x-python",
   "name": "python",
   "nbconvert_exporter": "python",
   "pygments_lexer": "ipython3",
   "version": "3.12.7"
  }
 },
 "nbformat": 4,
 "nbformat_minor": 5
}
