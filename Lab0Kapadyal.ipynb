{
 "cells": [
  {
   "cell_type": "markdown",
   "id": "d5db6d1b-e005-4d17-9622-fdc427c35f6c",
   "metadata": {},
   "source": [
    "# <center>Suyog Kapadyal</center>\n",
    "## <center>CPSMA-3933-01</center>\n",
    "### <center>Lab 0</center>\n",
    "---\n",
    "***Date***: September 2 \n",
    "***Instructor***: Professor Nicholas Jacob "
   ]
  },
  {
   "cell_type": "code",
   "execution_count": null,
   "id": "477c2849-4bb7-4028-b20b-a92a47bd220f",
   "metadata": {},
   "outputs": [],
   "source": []
  },
  {
   "cell_type": "code",
   "execution_count": null,
   "id": "bc0f0613-2389-423d-a11b-f62924bd6e7a",
   "metadata": {},
   "outputs": [],
   "source": []
  }
 ],
 "metadata": {
  "kernelspec": {
   "display_name": "Python [conda env:base] *",
   "language": "python",
   "name": "conda-base-py"
  },
  "language_info": {
   "codemirror_mode": {
    "name": "ipython",
    "version": 3
   },
   "file_extension": ".py",
   "mimetype": "text/x-python",
   "name": "python",
   "nbconvert_exporter": "python",
   "pygments_lexer": "ipython3",
   "version": "3.12.7"
  }
 },
 "nbformat": 4,
 "nbformat_minor": 5
}
