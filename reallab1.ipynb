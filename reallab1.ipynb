{
 "cells": [
  {
   "cell_type": "markdown",
   "id": "c2b30506-b4d3-4a3d-8f97-1af2589abc9d",
   "metadata": {},
   "source": [
    "# Getting started on python"
   ]
  },
  {
   "cell_type": "markdown",
   "id": "c3a5af53-7ad8-4008-8be7-6999edfdd152",
   "metadata": {},
   "source": [
    "# Taxes"
   ]
  },
  {
   "cell_type": "code",
   "execution_count": 22,
   "id": "97556063-11ef-4d26-8737-f1b3bb735ee6",
   "metadata": {},
   "outputs": [
    {
     "name": "stdout",
     "output_type": "stream",
     "text": [
      "2023 US Income Tax Calculator (Single Filer)\n",
      "==================================================\n",
      "Income: $    8,000 → Tax: $      800.00\n",
      "Income: $   25,000 → Tax: $    2,780.00\n",
      "Income: $   60,000 → Tax: $    8,507.50\n",
      "Income: $  120,000 → Tax: $   22,200.00\n",
      "Income: $  200,000 → Tax: $   42,832.00\n",
      "Income: $  300,000 → Tax: $   76,894.50\n",
      "Income: $  600,000 → Tax: $  182,332.00\n",
      "\n",
      "==================================================\n",
      "Bracket Boundary Verification:\n",
      "==================================================\n",
      "Income: $   11,000 → Tax: $    1,100.00\n",
      "Income: $   44,725 → Tax: $    5,147.00\n",
      "Income: $   95,375 → Tax: $   16,290.00\n",
      "Income: $  182,100 → Tax: $   37,104.00\n",
      "Income: $  231,250 → Tax: $   52,832.00\n",
      "Income: $  578,125 → Tax: $  174,238.25\n"
     ]
    }
   ],
   "source": [
    "def calculate_income_tax_2023(income):\n",
    "    \"\"\"\n",
    "    Calculate US federal income tax for 2023 using progressive tax system for single filers\n",
    "    \n",
    "    Parameters:\n",
    "    income (float): Annual taxable income\n",
    "    \n",
    "    Returns:\n",
    "    float: Total tax amount\n",
    "    \"\"\"\n",
    "    \n",
    "    # 2023 Tax Brackets for Single Filers\n",
    "    if income <= 11000:\n",
    "        tax = income * 0.10\n",
    "    elif income <= 44725:\n",
    "        tax = 1100 + (income - 11000) * 0.12\n",
    "    elif income <= 95375:\n",
    "        tax = 5147 + (income - 44725) * 0.22\n",
    "    elif income <= 182100:\n",
    "        tax = 16290 + (income - 95375) * 0.24\n",
    "    elif income <= 231250:\n",
    "        tax = 37104 + (income - 182100) * 0.32\n",
    "    elif income <= 578125:\n",
    "        tax = 52832 + (income - 231250) * 0.35\n",
    "    else:\n",
    "        tax = 174238.25 + (income - 578125) * 0.37\n",
    "    \n",
    "    return round(tax, 2)\n",
    "\n",
    "# Test the function with examples\n",
    "test_incomes = [8000, 25000, 60000, 120000, 200000, 300000, 600000]\n",
    "print(\"2023 US Income Tax Calculator (Single Filer)\")\n",
    "print(\"=\" * 50)\n",
    "\n",
    "for income in test_incomes:\n",
    "    tax = calculate_income_tax_2023(income)\n",
    "    print(f\"Income: ${income:>9,} → Tax: ${tax:>12,.2f}\")\n",
    "\n",
    "# Additional verification\n",
    "print(\"\\n\" + \"=\" * 50)\n",
    "print(\"Bracket Boundary Verification:\")\n",
    "print(\"=\" * 50)\n",
    "\n",
    "boundary_cases = [11000, 44725, 95375, 182100, 231250, 578125]\n",
    "for income in boundary_cases:\n",
    "    tax = calculate_income_tax_2023(income)\n",
    "    print(f\"Income: ${income:>9,} → Tax: ${tax:>12,.2f}\")"
   ]
  },
  {
   "cell_type": "markdown",
   "id": "b7188377-1211-473d-97ce-0087adcd7661",
   "metadata": {},
   "source": [
    "# Lists"
   ]
  },
  {
   "cell_type": "code",
   "execution_count": 27,
   "id": "48f58256-e3f1-4945-985b-b16de755c0db",
   "metadata": {},
   "outputs": [
    {
     "name": "stdout",
     "output_type": "stream",
     "text": [
      "Demonstrating the derivative of ln(x) at x=1\n",
      "============================================================\n",
      "h               [ln(1+h)]/h          Error (|1 - result|)\n",
      "------------------------------------------------------------\n",
      "1               0.6931471806         0.3068528194        \n",
      "0.1             0.9531017980         0.0468982020        \n",
      "0.001           0.9995003331         0.0004996669        \n",
      "0.002           0.9990013313         0.0009986687        \n",
      "0.0001          0.9999500033         0.0000499967        \n",
      "1e-10           1.0000000827         0.0000000827        \n",
      "\n",
      "As h approaches 0, [ln(1+h)]/h approaches 1\n",
      "This demonstrates that the derivative of ln(x) at x=1 is 1\n"
     ]
    }
   ],
   "source": [
    "import math\n",
    "\n",
    "# The given h values\n",
    "h_values = [1, 0.1, 0.001, 0.002, 0.0001, 0.0000000001]\n",
    "\n",
    "print(\"Demonstrating the derivative of ln(x) at x=1\")\n",
    "print(\"=\" * 60)\n",
    "print(f\"{'h':<15} {'[ln(1+h)]/h':<20} {'Error (|1 - result|)':<20}\")\n",
    "print(\"-\" * 60)\n",
    "\n",
    "for h in h_values:\n",
    "    # Compute the difference quotient: ln(1+h)/h\n",
    "    result = math.log(1 + h) / h\n",
    "    error = abs(1 - result)\n",
    "    print(f\"{h:<15} {result:<20.10f} {error:<20.10f}\")\n",
    "\n",
    "print(\"\\nAs h approaches 0, [ln(1+h)]/h approaches 1\")\n",
    "print(\"This demonstrates that the derivative of ln(x) at x=1 is 1\")"
   ]
  },
  {
   "cell_type": "markdown",
   "id": "4b9e4484-e449-4b57-9973-060cca22cb3e",
   "metadata": {},
   "source": [
    "# Truth of Summation"
   ]
  },
  {
   "cell_type": "code",
   "execution_count": 44,
   "id": "25c1bba1-4f8e-499b-807a-e284f6f829cd",
   "metadata": {},
   "outputs": [
    {
     "name": "stdout",
     "output_type": "stream",
     "text": [
      "Formula holds for all n from 0 to 1000: True\n"
     ]
    }
   ],
   "source": [
    "def verify_summation_formula():\n",
    "    \"\"\"\n",
    "    Verify that ∑(i³) from i=0 to n = [n(n+1)/2]² for n = 0 to 1000\n",
    "    \"\"\"\n",
    "    all_correct = True\n",
    "\n",
    "    \n",
    "    for n in range(0, 1001):\n",
    "        # Left side: sum of cubes from 0 to n\n",
    "        left_side = sum(i**3 for i in range(0, n + 1))\n",
    "        \n",
    "        # Right side: [n(n+1)/2]²\n",
    "        right_side = (n * (n + 1) // 2) ** 2\n",
    "\n",
    "        # Check if they're equal\n",
    "        if left_side != right_side:\n",
    "            print(f\"Error at n = {n}:\")\n",
    "            print(f\"  Sum of cubes: {left_side}\")\n",
    "            print(f\"  Formula result: {right_side}\")\n",
    "            all_correct = False\n",
    "            break\n",
    "    \n",
    "    return all_correct\n",
    "\n",
    "# Verify the formula\n",
    "result = verify_summation_formula()\n",
    "print(f\"Formula holds for all n from 0 to 1000: {result}\")"
   ]
  },
  {
   "cell_type": "markdown",
   "id": "2fcc5da4-7d04-4c58-9ea9-1671b2fed756",
   "metadata": {},
   "source": [
    "# Extraa"
   ]
  },
  {
   "cell_type": "code",
   "execution_count": 47,
   "id": "c2e9585d-2e50-46d1-aa08-17c3f3152336",
   "metadata": {},
   "outputs": [
    {
     "name": "stdout",
     "output_type": "stream",
     "text": [
      "Formula verification: True\n"
     ]
    }
   ],
   "source": [
    "# Single line verification\n",
    "result = all(sum(i**3 for i in range(n + 1)) == (n * (n + 1) // 2) ** 2 for n in range(1001))\n",
    "print(f\"Formula verification: {result}\")"
   ]
  },
  {
   "cell_type": "code",
   "execution_count": null,
   "id": "3a1e1227-6465-47bc-8e13-0135d42a4b52",
   "metadata": {},
   "outputs": [],
   "source": []
  }
 ],
 "metadata": {
  "kernelspec": {
   "display_name": "Python [conda env:base] *",
   "language": "python",
   "name": "conda-base-py"
  },
  "language_info": {
   "codemirror_mode": {
    "name": "ipython",
    "version": 3
   },
   "file_extension": ".py",
   "mimetype": "text/x-python",
   "name": "python",
   "nbconvert_exporter": "python",
   "pygments_lexer": "ipython3",
   "version": "3.12.7"
  }
 },
 "nbformat": 4,
 "nbformat_minor": 5
}
