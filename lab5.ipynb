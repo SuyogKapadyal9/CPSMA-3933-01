{
 "cells": [
  {
   "cell_type": "markdown",
   "id": "f376e5d5-1d0a-410b-bcaa-a60f3ce6122e",
   "metadata": {},
   "source": [
    "# Analytic Equation"
   ]
  },
  {
   "cell_type": "code",
   "execution_count": 10,
   "id": "cd2dd551-e975-44b5-a899-3605092b8858",
   "metadata": {},
   "outputs": [
    {
     "name": "stdout",
     "output_type": "stream",
     "text": [
      "f( 0 ) = 1\n",
      "f( 1 ) = 3\n",
      "f( 2 ) = 11\n",
      "f( 3 ) = 47\n",
      "f( 4 ) = 219\n",
      "f( 5 ) = 1063\n"
     ]
    }
   ],
   "source": [
    "# Mathematical Method\n",
    "def f_math(n):\n",
    "    return (5**n +2*(2**n)) // 3\n",
    "\n",
    "\n",
    "for i in range(6):\n",
    "    print(\"f(\", i, \") =\", int(f_math(i)))"
   ]
  },
  {
   "cell_type": "markdown",
   "id": "814a06ed-c560-4d35-bcf1-0599c8e5adeb",
   "metadata": {},
   "source": [
    "# Dynamic Programming"
   ]
  },
  {
   "cell_type": "code",
   "execution_count": 8,
   "id": "22e4def4-f51f-4427-aee5-60028938bc8a",
   "metadata": {},
   "outputs": [
    {
     "name": "stdout",
     "output_type": "stream",
     "text": [
      "0 1\n",
      "1 3\n",
      "2 11\n",
      "3 47\n",
      "4 219\n",
      "5 1063\n"
     ]
    }
   ],
   "source": [
    "# f(n) = 7*f(n-1) - 10*f(n-2), f(0)=1, f(1)=3\n",
    "def f_iter(n):\n",
    "    if n == 0: return 1\n",
    "    if n == 1: return 3\n",
    "    a2, a1 = 1, 3              # a_{n-2}, a_{n-1}\n",
    "    for _ in range(2, n+1):\n",
    "        a = 7*a1 - 10*a2       # a_n\n",
    "        a2, a1 = a1, a\n",
    "    return a1\n",
    "\n",
    "# demo\n",
    "for i in range(6):\n",
    "    print(i, f_iter(i))"
   ]
  },
  {
   "cell_type": "markdown",
   "id": "77d8765e-4e4f-444b-b9fa-85c0c65c945d",
   "metadata": {},
   "source": [
    "# Memoization"
   ]
  },
  {
   "cell_type": "code",
   "execution_count": 13,
   "id": "29a67be7-3823-45f7-af26-1b4050a6de88",
   "metadata": {},
   "outputs": [
    {
     "name": "stdout",
     "output_type": "stream",
     "text": [
      "0 1\n",
      "1 3\n",
      "2 11\n",
      "3 47\n",
      "4 219\n",
      "5 1063\n"
     ]
    }
   ],
   "source": [
    "def f_memo(n, memo=None):\n",
    "    if memo is None: memo = {}\n",
    "    if n in memo: return memo[n]\n",
    "    if n == 0: return 1\n",
    "    if n == 1: return 3\n",
    "    memo[n] = 7*f_memo(n-1, memo) - 10*f_memo(n-2, memo)\n",
    "    return memo[n]\n",
    "\n",
    "# demo\n",
    "for i in range(6):\n",
    "    print(i, f_memo(i))"
   ]
  },
  {
   "cell_type": "markdown",
   "id": "73fa265c-8c3f-4370-a9a3-6039301afef0",
   "metadata": {},
   "source": [
    "# Comparision "
   ]
  },
  {
   "cell_type": "code",
   "execution_count": 23,
   "id": "c9e7fdc4-f2e3-46f4-9014-356e27b317b1",
   "metadata": {},
   "outputs": [
    {
     "name": "stdout",
     "output_type": "stream",
     "text": [
      "0 1 1 1\n",
      "1 3 3 3\n",
      "2 11 11 11\n",
      "3 47 47 47\n",
      "4 219 219 219\n",
      "5 1063 1063 1063\n",
      "6 5251 5251 5251\n",
      "7 26127 26127 26127\n",
      "8 130379 130379 130379\n",
      "9 651383 651383 651383\n"
     ]
    }
   ],
   "source": [
    "\n",
    "for n in range(10):\n",
    "    print(n, int(f_math(n)), f_iter(n), f_memo(n))"
   ]
  },
  {
   "cell_type": "code",
   "execution_count": 25,
   "id": "3f55d699-ad0a-4f2b-b91a-eb9a168ae7ef",
   "metadata": {},
   "outputs": [
    {
     "name": "stdout",
     "output_type": "stream",
     "text": [
      "Analytic f(1000) = 311087872834406292996696514907939056539030482123902674873904779931988970325258544818146775699293700786531663310108080874738495840451344131613840272401310252078136888712775050091331691995300610503700163598755037706080170838265311263601726090375138367936899459618142160373156604742886986407339220970147599485389816295715822176002109456150882476420609954055067597731763164535705950221222913688479935184049436154775063748336818360804421947032532809541760684363205478589421938483585758909528411413611069990653131580034891466521674692974775476199199807774179041665663448810006105748621362602169727870433477857177457991958618736499761660319259546483629454982107443868972772122595845954618009123617662176459\n",
      "Iterative f(1000) = 311087872834406292996696514907939056539030482123902674873904779931988970325258544818146775699293700786531663310108080874738495840451344131613840272401310252078136888712775050091331691995300610503700163598755037706080170838265311263601726090375138367936899459618142160373156604742886986407339220970147599485389816295715822176002109456150882476420609954055067597731763164535705950221222913688479935184049436154775063748336818360804421947032532809541760684363205478589421938483585758909528411413611069990653131580034891466521674692974775476199199807774179041665663448810006105748621362602169727870433477857177457991958618736499761660319259546483629454982107443868972772122595845954618009123617662176459\n"
     ]
    }
   ],
   "source": [
    "def f_math(n):\n",
    "    return (5**n + 2*(2**n)) // 3\n",
    "\n",
    "def f_iter(n):\n",
    "    if n == 0: return 1\n",
    "    if n == 1: return 3\n",
    "    a2, a1 = 1, 3\n",
    "    for _ in range(2, n+1):\n",
    "        a = 7*a1 - 10*a2\n",
    "        a2, a1 = a1, a\n",
    "    return a1\n",
    "\n",
    "n = 1000\n",
    "print(\"Analytic f(1000) =\", f_math(n))\n",
    "print(\"Iterative f(1000) =\", f_iter(n))"
   ]
  },
  {
   "cell_type": "code",
   "execution_count": null,
   "id": "bb29f98e-3a2b-4ac6-9d05-8625e737f854",
   "metadata": {},
   "outputs": [],
   "source": []
  }
 ],
 "metadata": {
  "kernelspec": {
   "display_name": "Python [conda env:base] *",
   "language": "python",
   "name": "conda-base-py"
  },
  "language_info": {
   "codemirror_mode": {
    "name": "ipython",
    "version": 3
   },
   "file_extension": ".py",
   "mimetype": "text/x-python",
   "name": "python",
   "nbconvert_exporter": "python",
   "pygments_lexer": "ipython3",
   "version": "3.12.7"
  }
 },
 "nbformat": 4,
 "nbformat_minor": 5
}
