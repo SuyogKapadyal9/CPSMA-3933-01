{
 "cells": [
  {
   "cell_type": "markdown",
   "id": "f22f191e-9b09-4af6-869a-d12244f8faba",
   "metadata": {},
   "source": [
    "## Factorial "
   ]
  },
  {
   "cell_type": "code",
   "execution_count": 24,
   "id": "6a5bac2b-c979-4b49-a6ed-6f358f32a3c4",
   "metadata": {},
   "outputs": [
    {
     "name": "stdout",
     "output_type": "stream",
     "text": [
      "1000! ends with 249 zeros.\n"
     ]
    }
   ],
   "source": [
    "def count_trailing_zeros(n):\n",
    "    count = 0\n",
    "    i = 5\n",
    "    while i <= n:\n",
    "        count += n // i\n",
    "        i *= 5\n",
    "    return count\n",
    "\n",
    "# Calculate trailing zeros in 1000!\n",
    "zeros = count_trailing_zeros(1000)\n",
    "print(f\"1000! ends with {zeros} zeros.\")"
   ]
  },
  {
   "cell_type": "markdown",
   "id": "81c7fee6-9ee1-4d65-9a90-e51e4faaf734",
   "metadata": {},
   "source": [
    "## Big Numbers"
   ]
  },
  {
   "cell_type": "code",
   "execution_count": 31,
   "id": "80186728-78b3-440c-bfe6-0b819dc2c0ca",
   "metadata": {},
   "outputs": [
    {
     "name": "stdout",
     "output_type": "stream",
     "text": [
      "100^13 - 26 = 99999999999999999999999974\n",
      "Sum of digits: 227\n"
     ]
    }
   ],
   "source": [
    "# Compute the number\n",
    "num = 100**13 - 26\n",
    "\n",
    "# Sum the digits\n",
    "digit_sum = sum(int(d) for d in str(num))\n",
    "\n",
    "print(f\"100^13 - 26 = {num}\")\n",
    "print(f\"Sum of digits: {digit_sum}\")"
   ]
  },
  {
   "cell_type": "markdown",
   "id": "c0b09dbb-c15f-46d5-af53-2efa904c9541",
   "metadata": {},
   "source": [
    "## Handshakes"
   ]
  },
  {
   "cell_type": "code",
   "execution_count": 34,
   "id": "775ef0a7-179d-4648-a396-349f9b5193b7",
   "metadata": {},
   "outputs": [
    {
     "name": "stdout",
     "output_type": "stream",
     "text": [
      "Inter-team handshakes: 121\n",
      "Intra-team handshakes (winning team): 55.0\n",
      "Total handshakes: 176.0\n"
     ]
    }
   ],
   "source": [
    "# Number of players per team\n",
    "players_per_team = 11\n",
    "\n",
    "# Inter-team handshakes: each player in team A shakes with each in team B\n",
    "inter_team_handshakes = players_per_team * players_per_team\n",
    "\n",
    "# Intra-team handshakes for the winning team: combinations within 11 players\n",
    "intra_team_handshakes = (players_per_team * (players_per_team - 1)) / 2\n",
    "\n",
    "# Total handshakes\n",
    "total_handshakes = inter_team_handshakes + intra_team_handshakes\n",
    "\n",
    "print(\"Inter-team handshakes:\", inter_team_handshakes)\n",
    "print(\"Intra-team handshakes (winning team):\", intra_team_handshakes)\n",
    "print(\"Total handshakes:\", total_handshakes)"
   ]
  },
  {
   "cell_type": "markdown",
   "id": "e9fd0669-a454-458b-a900-578407d88b51",
   "metadata": {},
   "source": [
    "## Harder Handshakes"
   ]
  },
  {
   "cell_type": "markdown",
   "id": "8099bdfa-8d45-4dbd-afdc-7abbabf48eaa",
   "metadata": {},
   "source": [
    "##### Mr.Smith does 4 handshakes because excluding him and Ms.Smith, there are eight people, and if each of the eight people gave different answers, then the can be couple as (0,8), (5,3),(6,2) (because eight is the most one can do, the couples handshakes sum result in eight). That's why Mr.Smith would have done 4 handshakes, since 4+4=8 and Ms. Smith is not being counted here I think, so it still fulfills the criteria of everyone having a different number of handshakes."
   ]
  },
  {
   "cell_type": "code",
   "execution_count": null,
   "id": "182778bb-879f-4ac7-bc3f-d9d4d70d6fcc",
   "metadata": {},
   "outputs": [],
   "source": []
  }
 ],
 "metadata": {
  "kernelspec": {
   "display_name": "Python [conda env:base] *",
   "language": "python",
   "name": "conda-base-py"
  },
  "language_info": {
   "codemirror_mode": {
    "name": "ipython",
    "version": 3
   },
   "file_extension": ".py",
   "mimetype": "text/x-python",
   "name": "python",
   "nbconvert_exporter": "python",
   "pygments_lexer": "ipython3",
   "version": "3.12.7"
  }
 },
 "nbformat": 4,
 "nbformat_minor": 5
}
